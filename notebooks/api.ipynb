{
 "cells": [
  {
   "cell_type": "code",
   "execution_count": null,
   "id": "d97b0e97-356c-4dae-825b-e123130bb693",
   "metadata": {},
   "outputs": [],
   "source": [
    "# %load_ext autoreload\n",
    "# %autoreload 2"
   ]
  },
  {
   "cell_type": "code",
   "execution_count": null,
   "id": "86870f96-0e71-4cdb-8c84-cab07d346d00",
   "metadata": {},
   "outputs": [],
   "source": [
    "# To perform speech recognition, create an instance of the STTClient class and iterate over the values returned by its `recognize` method.\n",
    "# Booleans indicate voice detection (start and stop) strings represent individual words or utterances.\n",
    "\n",
    "stt = SpeechToText()\n",
    "for value in stt.recognize():  # The value is bool or string\n",
    "    if isinstance(value, str):\n",
    "        print(value)\n",
    "        if value.lower() == 'stop':\n",
    "            stt.stop()"
   ]
  },
  {
   "cell_type": "code",
   "execution_count": null,
   "id": "db8bb6b6-923a-4ee5-b671-981d0994179b",
   "metadata": {},
   "outputs": [],
   "source": [
    "# The wake word detector's `detect` method continuously listens to the microphone\n",
    "# and returns when the wake work (Hey Steve in this case) has been detected.\n",
    "\n",
    "wake = WakeWord()\n",
    "print('Listening for \"Hey Steve\"')\n",
    "confidence = wake.detect()\n",
    "print(f'Confidence: {confidence}')"
   ]
  },
  {
   "cell_type": "code",
   "execution_count": null,
   "id": "1e505b94-d2ea-48be-a9cd-beaa13b159f2",
   "metadata": {},
   "outputs": [],
   "source": [
    "# The text to speech API can be used to \"say\" text. Simply invoke its `say` method.\n",
    "tts = TextToSpeech()\n",
    "tts.start()"
   ]
  },
  {
   "cell_type": "code",
   "execution_count": null,
   "id": "46fcebe2-3f26-4700-882b-d7a7c141c24f",
   "metadata": {},
   "outputs": [],
   "source": [
    "tts.say('Hello!') # Make sure to end the text with a punctuation mark. The method is asynchronous."
   ]
  },
  {
   "cell_type": "code",
   "execution_count": null,
   "id": "db37bf83-5c6a-4ce4-9ea0-d7180d3604d0",
   "metadata": {},
   "outputs": [],
   "source": [
    "leds = JupyterLEDs()\n",
    "display(leds)\n",
    "leds.color = RGB(255, 0, 0)"
   ]
  },
  {
   "cell_type": "code",
   "execution_count": null,
   "id": "f5ee7e41-93ca-4303-9210-0acdbd8a2c95",
   "metadata": {},
   "outputs": [],
   "source": [
    "servos = JupyterServos()\n",
    "display(servos)\n",
    "servos.power = True"
   ]
  },
  {
   "cell_type": "code",
   "execution_count": null,
   "id": "38c73250-5df7-46a0-a269-e52acb18d743",
   "metadata": {},
   "outputs": [],
   "source": [
    "# The following instance can be used to interact with OpenAI's ChatGPT.\n",
    "ai = ChatGPT()"
   ]
  },
  {
   "cell_type": "code",
   "execution_count": null,
   "id": "b833a069-7780-491c-91b8-5cf16a8ebe77",
   "metadata": {},
   "outputs": [],
   "source": [
    "# The method `program` converts given text to a Python program to control the robot:\n",
    "print(ai.program('Using sleep, slowly move the torso from one side to another and back'))"
   ]
  },
  {
   "cell_type": "code",
   "execution_count": null,
   "id": "cbd1ce1c-1182-46fc-bc0d-1998a2b0b20a",
   "metadata": {},
   "outputs": [],
   "source": [
    "# The `respond` method can generate an English-language response to the given text.\n",
    "# The values produced by the streaming generator can be piped into the text-to-speech client.\n",
    "\n",
    "for text in ai.respond('say good morning'):\n",
    "    print(text, end='')\n",
    "    tts.say(text)"
   ]
  },
  {
   "cell_type": "code",
   "execution_count": null,
   "id": "084f3c24-1e33-43ba-93a8-fab339281987",
   "metadata": {},
   "outputs": [],
   "source": []
  }
 ],
 "metadata": {
  "kernelspec": {
   "display_name": "Python 3 (ipykernel)",
   "language": "python",
   "name": "python3"
  },
  "language_info": {
   "codemirror_mode": {
    "name": "ipython",
    "version": 3
   },
   "file_extension": ".py",
   "mimetype": "text/x-python",
   "name": "python",
   "nbconvert_exporter": "python",
   "pygments_lexer": "ipython3",
   "version": "3.11.10"
  }
 },
 "nbformat": 4,
 "nbformat_minor": 5
}
