{
 "cells": [
  {
   "cell_type": "markdown",
   "id": "2f5daa82-2464-4f60-bb90-023d42cd994d",
   "metadata": {
    "jp-MarkdownHeadingCollapsed": true
   },
   "source": [
    "# Mastering the Art of Multitasking\n",
    "## A Deep Dive into Concurrent Programming with Python\n",
    "**Date**: December 3rd, 2024<br/>\n",
    "**Instructor**: Jan Janak &lt;janakj@cs.columbia.edu&gt;\n",
    "\n",
    "**Disclaimer**: This lecture is work in progress. The content may change significantly in future iterations.\n",
    "\n",
    "<hr/>"
   ]
  },
  {
   "cell_type": "code",
   "execution_count": 2,
   "id": "d1827cd1-859b-4f27-b4eb-d37d63f389cc",
   "metadata": {},
   "outputs": [
    {
     "data": {
      "text/html": [
       "<style>\n",
       "    .fig {\n",
       "        display: flex;\n",
       "        justify-content: space-around;\n",
       "    }\n",
       "</style>\n"
      ],
      "text/plain": [
       "<IPython.core.display.HTML object>"
      ]
     },
     "metadata": {},
     "output_type": "display_data"
    }
   ],
   "source": [
    "%%html\n",
    "<style>\n",
    "    .fig {\n",
    "        display: flex;\n",
    "        justify-content: space-around;\n",
    "    }\n",
    "</style>"
   ]
  },
  {
   "cell_type": "code",
   "execution_count": 22,
   "id": "c9187369-131f-439c-903f-5aaa9a7fd758",
   "metadata": {},
   "outputs": [],
   "source": [
    "%load_ext autoreload"
   ]
  },
  {
   "cell_type": "code",
   "execution_count": 24,
   "id": "4afa475b-57b4-4969-8402-6c13102fadf0",
   "metadata": {},
   "outputs": [
    {
     "name": "stdout",
     "output_type": "stream",
     "text": [
      "hello\n"
     ]
    }
   ],
   "source": [
    "print(\"hello2\")"
   ]
  },
  {
   "cell_type": "code",
   "execution_count": 3,
   "id": "782d4f54-666d-416c-93b6-cd369afb9b9d",
   "metadata": {},
   "outputs": [],
   "source": [
    "import ipywidgets as widgets"
   ]
  },
  {
   "cell_type": "markdown",
   "id": "5848e6c8-dd3b-44a1-ac76-2f9510c2f504",
   "metadata": {},
   "source": [
    "# About this Notebook"
   ]
  },
  {
   "cell_type": "markdown",
   "id": "2e2e69fd-cad4-4bf2-b34a-f7709b7c5b2c",
   "metadata": {},
   "source": [
    "This Jupyter notebook is similar to those that you may have seen in other courses like ENGI E1006 and COMS W2132. It is different from those notebooks in the following ways:\n",
    "\n",
    "  1) The notebook (its Python kernel) runs on a Raspberry Pi computer embedded in the robot\n",
    "  1) It has access to the robot's hardware peripheral's (3D mouse, speaker, microphone, servos, LEDs)\n",
    "  1) It has the various Python libraries for accessing the hardware preinstalled\n",
    "  1) It has access to the API keys (under my account) for Google Cloud and OpenAI's ChatGPT API\n",
    "\n",
    "When I edit the code cells in this notebook during the lecture, I edit a running Python program on the robot. Unfortunately, you will not be able to re-run the notebook on your laptop because it does not have the required hardware.\n",
    "\n",
    "All the software used in this notebook is open-source. Check out the [GitHub repository](https://github.com/janakj/shaky-steve) or the robot's [home page](https://janakj.github.io/shaky-steve/)."
   ]
  },
  {
   "cell_type": "markdown",
   "id": "9e0eead8-cb13-4cb3-8fdb-1b7fa2e51b45",
   "metadata": {},
   "source": [
    "# The Setup"
   ]
  },
  {
   "cell_type": "markdown",
   "id": "4783709c-f5be-4741-8bf1-3d9cccb713ed",
   "metadata": {},
   "source": [
    "The following diagram illustrates the setup:\n",
    "\n",
    "<div class=\"fig\">\n",
    "    <img width=1024 src=\"../images/setup.png\"/>\n",
    "</div>\n",
    "\n",
    "  * The Jupyter notebook runs directly on the robot\n",
    "  * I access the notebook from the browser on my presentation laptop via Wi-FI\n",
    "  * The robot communicates with cloud services over the Internet:\n",
    "     * Google Cloud for the Speech-to-Text and Text-to-Speech services\n",
    "     * OpenAI Cloud for the ChatGPT API"
   ]
  },
  {
   "cell_type": "markdown",
   "id": "05909383-7276-475f-a1f3-b9a93259d847",
   "metadata": {},
   "source": [
    "# Additional Resources"
   ]
  },
  {
   "cell_type": "markdown",
   "id": "1dbe4fc6-cccc-40dd-908e-425d9e6c7285",
   "metadata": {},
   "source": [
    "  * Shaky Steve's Python software is open-source. You can study (and improve) it at https://github.com/janakj/shaky-steve.\n",
    "  * Steve also has a home page at https://janakj.github.io/shaky-steve/."
   ]
  },
  {
   "cell_type": "markdown",
   "id": "1ae97929-fdb1-4632-9502-f6a257de1165",
   "metadata": {},
   "source": [
    "Shaky Steve provides a simple API consisting of just a few functions. All the functions can be imported from the module \"steve\".\n",
    "  * set_led(red, green, blue)\n",
    "  * "
   ]
  },
  {
   "cell_type": "code",
   "execution_count": 4,
   "id": "f05f3447-075d-42aa-b29a-1bfc0dbc0937",
   "metadata": {},
   "outputs": [
    {
     "data": {
      "application/vnd.jupyter.widget-view+json": {
       "model_id": "bf4a24e054f341b0976e0f8895650306",
       "version_major": 2,
       "version_minor": 0
      },
      "text/plain": [
       "FloatSlider(value=0.0, continuous_update=False, description='Torso', max=90.0, min=-90.0, readout_format='.1f'…"
      ]
     },
     "metadata": {},
     "output_type": "display_data"
    },
    {
     "data": {
      "application/vnd.jupyter.widget-view+json": {
       "model_id": "2361258e7a944308917d95c6eda5b346",
       "version_major": 2,
       "version_minor": 0
      },
      "text/plain": [
       "FloatSlider(value=0.0, continuous_update=False, description='Clamp', max=1.0, readout_format='.1f')"
      ]
     },
     "metadata": {},
     "output_type": "display_data"
    },
    {
     "data": {
      "application/vnd.jupyter.widget-view+json": {
       "model_id": "3c752d4c49f04a918c1b541d36fe8220",
       "version_major": 2,
       "version_minor": 0
      },
      "text/plain": [
       "FloatSlider(value=0.0, continuous_update=False, description='Wrist ⇆', max=90.0, min=-90.0, readout_format='.1…"
      ]
     },
     "metadata": {},
     "output_type": "display_data"
    },
    {
     "data": {
      "application/vnd.jupyter.widget-view+json": {
       "model_id": "b26c9c6f2ab349a38e5cc922e01727c8",
       "version_major": 2,
       "version_minor": 0
      },
      "text/plain": [
       "FloatSlider(value=0.0, continuous_update=False, description='Wrist ⇅', max=90.0, min=-90.0, readout_format='.1…"
      ]
     },
     "metadata": {},
     "output_type": "display_data"
    },
    {
     "data": {
      "application/vnd.jupyter.widget-view+json": {
       "model_id": "ea8f4c21d441460e885b103da71049a5",
       "version_major": 2,
       "version_minor": 0
      },
      "text/plain": [
       "FloatSlider(value=0.0, continuous_update=False, description='Elbow', max=61.7, min=-58.4, readout_format='.1f'…"
      ]
     },
     "metadata": {},
     "output_type": "display_data"
    },
    {
     "data": {
      "application/vnd.jupyter.widget-view+json": {
       "model_id": "fb4293f03c6e41b7a89151143079bbde",
       "version_major": 2,
       "version_minor": 0
      },
      "text/plain": [
       "FloatSlider(value=0.0, continuous_update=False, description='Shoulder', max=90.0, min=-90.0, readout_format='.…"
      ]
     },
     "metadata": {},
     "output_type": "display_data"
    }
   ],
   "source": [
    "torso    = widgets.FloatSlider(min=-90  , max=90  , step=0.1, description='Torso'  ,  readout=True, readout_format='.1f', continuous_update=False)\n",
    "clamp    = widgets.FloatSlider(min=0    , max=1   , step=0.1, description='Clamp'  ,  readout=True, readout_format='.1f', continuous_update=False)\n",
    "wrist_lr = widgets.FloatSlider(min=-90  , max=90  , step=0.1, description='Wrist ⇆',  readout=True, readout_format='.1f', continuous_update=False)\n",
    "wrist_ud = widgets.FloatSlider(min=-90  , max=90  , step=0.1, description='Wrist ⇅',  readout=True, readout_format='.1f', continuous_update=False)\n",
    "elbow    = widgets.FloatSlider(min=-58.4, max=61.7, step=0.1, description='Elbow',    readout=True, readout_format='.1f', continuous_update=False)\n",
    "shoulder = widgets.FloatSlider(min=-90  , max=90  , step=0.1, description='Shoulder', readout=True, readout_format='.1f', continuous_update=False)\n",
    "\n",
    "display(torso)\n",
    "display(clamp)\n",
    "display(wrist_lr)\n",
    "display(wrist_ud)\n",
    "display(elbow)\n",
    "display(shoulder)"
   ]
  },
  {
   "cell_type": "code",
   "execution_count": 5,
   "id": "28b4f916-73d9-49d6-9ad6-7f631231833d",
   "metadata": {},
   "outputs": [
    {
     "data": {
      "text/plain": [
       "<Task pending name='Task-6' coro=<anim2() running at /var/folders/6p/gzq7y7116d982z30cf944kpm0000gn/T/ipykernel_78303/2152007556.py:9>>"
      ]
     },
     "execution_count": 5,
     "metadata": {},
     "output_type": "execute_result"
    }
   ],
   "source": [
    "from time import sleep\n",
    "import asyncio\n",
    "\n",
    "async def anim1():\n",
    "    for i in range(0, 90, 1):\n",
    "        shoulder.value = float(i)\n",
    "        await asyncio.sleep(0.1)\n",
    "\n",
    "async def anim2():\n",
    "    for i in range(0, 90, 1):\n",
    "        torso.value = float(i)\n",
    "        await asyncio.sleep(0.2)\n",
    "\n",
    "asyncio.create_task(anim1())\n",
    "asyncio.create_task(anim2())"
   ]
  },
  {
   "cell_type": "code",
   "execution_count": 6,
   "id": "763cfece-c94f-4cb8-a04d-123f0d4bc9de",
   "metadata": {},
   "outputs": [],
   "source": [
    "\n",
    "async def high_five():\n",
    "    torso.value = -0.429\n",
    "    shoulder.value = 18.799\n",
    "    elbow.value = 61.7\n",
    "    wrist_ud.value = -5.632\n",
    "    wrist_lr.value = 0.282\n",
    "    clamp.value = 0.03\n",
    "\n",
    "    await asyncio.sleep(2)\n",
    "    for i in range(5):\n",
    "        clamp.value = 0\n",
    "        await asyncio.sleep(0.2)\n",
    "        clamp.value = 1\n",
    "        await asyncio.sleep(0.2)\n",
    "\n",
    "await high_five()"
   ]
  },
  {
   "cell_type": "code",
   "execution_count": 7,
   "id": "344b0787-a233-4648-ab3f-1bfc92ff2e45",
   "metadata": {},
   "outputs": [
    {
     "data": {
      "application/vnd.jupyter.widget-view+json": {
       "model_id": "11eea0e2343c498d912b3a28254325fc",
       "version_major": 2,
       "version_minor": 0
      },
      "text/plain": [
       "HBox(children=(HTML(value='\\n<div style=\"display: flex; justify-content: center; align-items: center; width: 7…"
      ]
     },
     "execution_count": 7,
     "metadata": {},
     "output_type": "execute_result"
    }
   ],
   "source": [
    "leds = []\n",
    "for i in range(4):\n",
    "    leds.append(widgets.HTML(value=\n",
    "'''\n",
    "<div style=\"display: flex; justify-content: center; align-items: center; width: 70px; height: 70px; background-color: black; border-radius: 100%\">\n",
    "    <div style=\"margin-top: -2px; font-size: 70px; text-align: center; line-height: 1\">&#9679;</div>\n",
    "</div>\n",
    "'''))\n",
    "\n",
    "widgets.HBox(leds)"
   ]
  },
  {
   "cell_type": "code",
   "execution_count": 9,
   "id": "7bfdefc4-b672-4c23-993a-0cbd76a918e6",
   "metadata": {},
   "outputs": [],
   "source": [
    "l = [1, 2, 3]"
   ]
  },
  {
   "cell_type": "code",
   "execution_count": null,
   "id": "90a7709b-c75e-4cd5-9c76-d4e1edfba189",
   "metadata": {},
   "outputs": [],
   "source": [
    "leds[0]."
   ]
  },
  {
   "cell_type": "code",
   "execution_count": 209,
   "id": "6d287625-6a59-44ba-ada9-f4353b5cf34c",
   "metadata": {},
   "outputs": [],
   "source": [
    "for led in leds:\n",
    "    led.style.text_color = '#ffffff'"
   ]
  },
  {
   "cell_type": "code",
   "execution_count": 212,
   "id": "55dc0e73-7f7d-42dd-b233-b4b6d06d9257",
   "metadata": {},
   "outputs": [],
   "source": [
    "import math\n",
    "\n",
    "async def breathe(period=4, gamma=0.12, rate=10):\n",
    "    n = rate * period\n",
    "    while True:\n",
    "        for i in range(n):\n",
    "            v = math.exp(-(pow((i / n - 0.5) / gamma, 2)) / 2)\n",
    "            R = r * v\n",
    "            G = g * v\n",
    "            B = b * v\n",
    "            leds[0].style.text_color = f'#{R:02x}{G:02x}{B:02x}'\n",
    "            await asyncio.sleep(1 / rate)"
   ]
  },
  {
   "cell_type": "code",
   "execution_count": 213,
   "id": "fc6f6454-6ba2-4d2a-bed8-f40a6e51de84",
   "metadata": {},
   "outputs": [
    {
     "ename": "ValueError",
     "evalue": "Unknown format code 'x' for object of type 'float'",
     "output_type": "error",
     "traceback": [
      "\u001b[0;31m---------------------------------------------------------------------------\u001b[0m",
      "\u001b[0;31mValueError\u001b[0m                                Traceback (most recent call last)",
      "Cell \u001b[0;32mIn[213], line 1\u001b[0m\n\u001b[0;32m----> 1\u001b[0m \u001b[38;5;28;01mawait\u001b[39;00m breathe()\n",
      "Cell \u001b[0;32mIn[212], line 12\u001b[0m, in \u001b[0;36mbreathe\u001b[0;34m(period, gamma, rate)\u001b[0m\n\u001b[1;32m     10\u001b[0m G \u001b[38;5;241m=\u001b[39m g \u001b[38;5;241m*\u001b[39m v\n\u001b[1;32m     11\u001b[0m B \u001b[38;5;241m=\u001b[39m b \u001b[38;5;241m*\u001b[39m v\n\u001b[0;32m---> 12\u001b[0m leds[\u001b[38;5;241m0\u001b[39m]\u001b[38;5;241m.\u001b[39mstyle\u001b[38;5;241m.\u001b[39mtext_color \u001b[38;5;241m=\u001b[39m \u001b[38;5;124mf\u001b[39m\u001b[38;5;124m'\u001b[39m\u001b[38;5;124m#\u001b[39m\u001b[38;5;132;01m{\u001b[39;00mR\u001b[38;5;132;01m:\u001b[39;00m\u001b[38;5;124m02x\u001b[39m\u001b[38;5;132;01m}\u001b[39;00m\u001b[38;5;132;01m{\u001b[39;00mG\u001b[38;5;132;01m:\u001b[39;00m\u001b[38;5;124m02x\u001b[39m\u001b[38;5;132;01m}\u001b[39;00m\u001b[38;5;132;01m{\u001b[39;00mB\u001b[38;5;132;01m:\u001b[39;00m\u001b[38;5;124m02x\u001b[39m\u001b[38;5;132;01m}\u001b[39;00m\u001b[38;5;124m'\u001b[39m\n\u001b[1;32m     13\u001b[0m \u001b[38;5;28;01mawait\u001b[39;00m asyncio\u001b[38;5;241m.\u001b[39msleep(\u001b[38;5;241m1\u001b[39m \u001b[38;5;241m/\u001b[39m rate)\n",
      "\u001b[0;31mValueError\u001b[0m: Unknown format code 'x' for object of type 'float'"
     ]
    }
   ],
   "source": [
    "await breathe()"
   ]
  },
  {
   "cell_type": "code",
   "execution_count": null,
   "id": "b8179a1c-e1ec-4e9f-8359-6cae65484d9a",
   "metadata": {},
   "outputs": [],
   "source": [
    "import asyncio\n",
    "asyncio.all_tasks()"
   ]
  },
  {
   "cell_type": "code",
   "execution_count": null,
   "id": "4ed5b3e8-00fd-43e6-9f4a-f26a5c489751",
   "metadata": {},
   "outputs": [],
   "source": [
    "task, = [task for task in asyncio.all_tasks() if task.get_name() == 'Task-5']\n",
    "task.cancel()"
   ]
  },
  {
   "cell_type": "code",
   "execution_count": null,
   "id": "983aa22d-49e6-492d-87b4-c8266132c81a",
   "metadata": {},
   "outputs": [],
   "source": []
  }
 ],
 "metadata": {
  "kernelspec": {
   "display_name": "Python 3 (ipykernel)",
   "language": "python",
   "name": "python3"
  },
  "language_info": {
   "codemirror_mode": {
    "name": "ipython",
    "version": 3
   },
   "file_extension": ".py",
   "mimetype": "text/x-python",
   "name": "python",
   "nbconvert_exporter": "python",
   "pygments_lexer": "ipython3",
   "version": "3.11.10"
  }
 },
 "nbformat": 4,
 "nbformat_minor": 5
}
