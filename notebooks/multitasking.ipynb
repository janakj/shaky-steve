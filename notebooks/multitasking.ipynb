{
 "cells": [
  {
   "cell_type": "markdown",
   "id": "2f5daa82-2464-4f60-bb90-023d42cd994d",
   "metadata": {},
   "source": [
    "# Concurrent Programming with Python\n",
    "## `async`, `await`, `asyncio`\n",
    "**Date**: December 3rd, 2024<br/>\n",
    "**Instructor**: Jan Janak &lt;janakj@cs.columbia.edu&gt;\n",
    "\n",
    "**Disclaimer**: This lecture is work in progress. The content may change significantly in future iterations.\n",
    "\n",
    "<hr/>"
   ]
  },
  {
   "cell_type": "markdown",
   "id": "9da1f73c-7cd4-42a4-8ecc-0842f6565467",
   "metadata": {},
   "source": [
    "# Introduction"
   ]
  },
  {
   "cell_type": "markdown",
   "id": "694d6865-d999-4991-9622-f0ecbd38f138",
   "metadata": {},
   "source": [
    "This lecture introduces concurrent (asynchronous) programming in Python to control a toy robot. It follows a use-inspired style, introducing and explaining concurrency concepts as the need for them arises in a Python program controlling the robot's movements.\n",
    "\n",
    "This lecture will be a part in a series of lecture or lab notes. The subsequent notes will introduce threading, multiprocessing, and inter-process communication primitives available in Python."
   ]
  },
  {
   "cell_type": "markdown",
   "id": "5848e6c8-dd3b-44a1-ac76-2f9510c2f504",
   "metadata": {},
   "source": [
    "## The Setup"
   ]
  },
  {
   "cell_type": "markdown",
   "id": "0078390e-3958-45eb-ac1f-47e07b02bafd",
   "metadata": {},
   "source": [
    "This Jupyter notebook is similar to those that you may have seen in other courses like ENGI E1006 and COMS W2132. It is different from those notebooks in the following ways:\n",
    "\n",
    "  1) The notebook (its IPython kernel) runs on a Raspberry Pi embedded in the robot\n",
    "  1) It has access to the robot's hardware (3D mouse, speaker, microphone, servos, LEDs)\n",
    "  1) It has access to the API keys for Google Cloud and OpenAI's ChatGPT API\n",
    "\n",
    "When I edit the code cells in this notebook, I edit a running Python program on the robot. The following diagram illustrates the setup:"
   ]
  },
  {
   "cell_type": "markdown",
   "id": "8a9343de-5104-41f6-95ed-19b972757fab",
   "metadata": {},
   "source": [
    "<img width=1024 src=\"../images/setup.png\"/>"
   ]
  },
  {
   "cell_type": "markdown",
   "id": "4817c2f8-b834-4d4c-b861-396fa0740d48",
   "metadata": {},
   "source": [
    "All the software used in this notebook is open-source. Check out the [GitHub repository](https://github.com/janakj/shaky-steve) or the robot's [home page](https://janakj.github.io/shaky-steve/)."
   ]
  },
  {
   "cell_type": "markdown",
   "id": "984cb470-f125-4374-8e06-ef428df4a4d9",
   "metadata": {},
   "source": [
    "## Steve's API"
   ]
  },
  {
   "cell_type": "markdown",
   "id": "391739a2-4f77-4310-8001-6c4e448ec8d7",
   "metadata": {},
   "source": [
    "The robot is entirely programmed in Python. There is a custom package called `steve` providing classes to access individual subsystems:\n",
    "\n",
    "<table style='width: 100%; font-size: 100%; border: 1px solid black'>\n",
    "    <caption>Steve's low-level application programming interface (API)</caption>\n",
    "    <colgroup>\n",
    "       <col span=\"1\" style=\"width: 15%\">\n",
    "       <col span=\"1\" style=\"width: 20%\">\n",
    "       <col span=\"1\" style=\"width: 55%\">\n",
    "    </colgroup>\n",
    "    <thead style='text-align: left'>\n",
    "        <tr>\n",
    "            <th>Class</th>\n",
    "            <th>Resources Used</th>\n",
    "            <th>Description</th>\n",
    "            <th>Blocking</th>\n",
    "        </tr>\n",
    "    </thead>\n",
    "    <tbody>\n",
    "        <tr>\n",
    "            <td><tt><a href='../steve/jupyter.py'>LEDs</a></tt></td>\n",
    "            <td>Hardware</td>\n",
    "            <td>Controls the robot's four LED indicators</td>\n",
    "            <td>No</td>\n",
    "        </tr>\n",
    "        <tr>\n",
    "            <td><tt><a href='../steve/jupyter.py'>Servos</a></tt></td>\n",
    "            <td>Hardware</td>\n",
    "            <td>Controls the robot's six servo motors</td>\n",
    "            <td>No</td>\n",
    "        </tr>\n",
    "        <tr>\n",
    "            <td><tt><a href='../steve/audio.py'>AudioClip</a></tt></td>\n",
    "            <td>Hardware (audio)</td>\n",
    "            <td>Plays WAV files via the the robot's loudspeaker</td>\n",
    "            <td>Yes</td>\n",
    "        </tr>\n",
    "        <tr>\n",
    "            <td><tt><a href='../steve/stt.py'>SpeechToText</a></tt></td>\n",
    "            <td>Network (Google Cloud)</td>\n",
    "            <td>Converts speech recorded by the robot's microphone to text</td>\n",
    "            <td>Yes</td>\n",
    "        </tr>\n",
    "        <tr>\n",
    "            <td><tt><a href='../steve/tts.py'>TextToSpeech</a></tt></td>\n",
    "            <td>Network (Google Cloud)<br/>Hardware (audio)</td>\n",
    "            <td>Converts text (words) to speech and sends the output to the robot's loudspeaker</td>\n",
    "            <td>No</td>\n",
    "        </tr>\n",
    "        <tr>\n",
    "            <td><tt><a href='../steve/wake.py'>WakeWord</a></tt></td>\n",
    "            <td>Hardware (audio)</td>\n",
    "            <td>Continuously listens for \"Hey Steve\"</td>\n",
    "            <td>Yes</td>\n",
    "        </tr>\n",
    "        <tr>\n",
    "            <td><tt><a href='../steve/chatgpt.py'>ChatGPT</a></tt></td>\n",
    "            <td>Network (OpenAI Cloud)</td>\n",
    "            <td>Expands given text using OpenAI's ChatGPT service</td>\n",
    "            <td>Yes</td>\n",
    "        </tr>\n",
    "        <tr>\n",
    "            <td><tt><a href='../steve/mouse.py'>Mouse</a></tt></td>\n",
    "            <td>Hardware (USB peripheral)</td>\n",
    "            <td>Reads button and motion events from the 3D mouse</td>\n",
    "            <td>Yes</td>\n",
    "        </tr>\n",
    "    </tbody>\n",
    "</table>\n",
    "\n",
    "All above classes (and a few additional utility functions) can be imported in a single statement:"
   ]
  },
  {
   "cell_type": "code",
   "execution_count": 1,
   "id": "04994655-52e9-46e2-8fed-25ba32b31e32",
   "metadata": {},
   "outputs": [],
   "source": [
    "from steve import *"
   ]
  },
  {
   "cell_type": "markdown",
   "id": "9609e343-4b6e-4dbd-9ed9-bd1c00d90a33",
   "metadata": {},
   "source": [
    "The following example show how you can use the API:"
   ]
  },
  {
   "cell_type": "code",
   "execution_count": null,
   "id": "bbab9831-7e0b-49b1-a3f7-89c40465a5d4",
   "metadata": {},
   "outputs": [],
   "source": [
    "chirp = AudioClip('../sounds/chirp.wav') # Load a .wav file\n",
    "tts = TextToSpeech()                     # Create and start a Google Cloud Text-to-speech client\n",
    "wake = WakeWord()                        # Create a wake word detector based on OpenWakeWord library"
   ]
  },
  {
   "cell_type": "code",
   "execution_count": null,
   "id": "7b15c948-5fd9-4738-b2dc-edd5f420d339",
   "metadata": {},
   "outputs": [],
   "source": [
    "print('Listening for \"Hey Steve\"')\n",
    "wake.detect()                            # Block until 'Hey Steve' has been detected\n",
    "print('Detected')\n",
    "\n",
    "chirp.play()                             # Play the chirp. Wait until the playback completes.\n",
    "tts.say('Nice to hear from you!')        # Greet the user via text-to-speech"
   ]
  },
  {
   "cell_type": "markdown",
   "id": "9fa9920b-01a7-4211-a1e3-29be73c21465",
   "metadata": {},
   "source": [
    "We will introduce the remaining APIs as we go."
   ]
  },
  {
   "cell_type": "markdown",
   "id": "35112988-973f-43c8-9c95-c0ec88aab23d",
   "metadata": {},
   "source": [
    "# Servo Control"
   ]
  },
  {
   "cell_type": "markdown",
   "id": "433b24ad-ce3a-4504-ae37-686274118c5c",
   "metadata": {},
   "source": [
    "We will start by learning to move the robot. Obtain access to the servo API:"
   ]
  },
  {
   "cell_type": "code",
   "execution_count": 2,
   "id": "e81dd6fd-6bbb-4c43-acbf-12d90ac920e8",
   "metadata": {},
   "outputs": [
    {
     "data": {
      "application/vnd.jupyter.widget-view+json": {
       "model_id": "e8d1bad2bed84944aea697a8b77c373b",
       "version_major": 2,
       "version_minor": 0
      },
      "text/plain": [
       "VBox(children=(FloatSlider(value=0.0, continuous_update=False, description='Torso', disabled=True, max=90.0, m…"
      ]
     },
     "metadata": {},
     "output_type": "display_data"
    }
   ],
   "source": [
    "servos = Servos()\n",
    "display(servos)"
   ]
  },
  {
   "cell_type": "markdown",
   "id": "d4be12ee-b1de-4a42-a19c-35dd363b3ebf",
   "metadata": {},
   "source": [
    "There are six servo motors named \"clamp\", \"wrist_ud\", \"wrist_lr\", \"elbow\", \"shoulder\", and \"torso\". The servos start powered off. Setting a float value to a servo powers on and moves the servo:"
   ]
  },
  {
   "cell_type": "code",
   "execution_count": 3,
   "id": "5883fe1c-0a3e-47a8-a3cb-5a0f423f3885",
   "metadata": {},
   "outputs": [],
   "source": [
    "# Rotate torso 90 degrees counter clock-wise\n",
    "servos.torso.set(-90)"
   ]
  },
  {
   "cell_type": "markdown",
   "id": "6b957f46-f0f8-4643-a047-f259717a86a5",
   "metadata": {},
   "source": [
    "While the servo is powered on, it maintains its configured position (resist being pushed)."
   ]
  },
  {
   "cell_type": "markdown",
   "id": "7fc6d3fc-6394-4e61-807f-4299f38b2636",
   "metadata": {},
   "source": [
    "To move to a different position, write a different value to it:"
   ]
  },
  {
   "cell_type": "code",
   "execution_count": 5,
   "id": "493498c0-61ce-48ba-9b09-2a1bdc02c4c1",
   "metadata": {},
   "outputs": [],
   "source": [
    "# Rotate torso 90 degrees clock-wise\n",
    "servos.torso.set(90)"
   ]
  },
  {
   "cell_type": "markdown",
   "id": "a65ede85-a2aa-497c-a762-3eacaea3fb1d",
   "metadata": {},
   "source": [
    "**Note: the servo moves to the new position as quickly as possible. The write operation is non-blocking, i.e., it does not wait for the servo to reach the state.**"
   ]
  },
  {
   "cell_type": "markdown",
   "id": "add860eb-2757-4a41-8866-d2d194ba2458",
   "metadata": {},
   "source": [
    "# Learn: Blocking and Non-Blocking Operations"
   ]
  },
  {
   "cell_type": "markdown",
   "id": "83ff0199-4efb-40fe-ae26-f5ea57d0d2d9",
   "metadata": {},
   "source": [
    "Note the last column called \"Blocking\" in the API table. Most APIs are blocking, i.e., the corresponding method does not return until the operation completes. This can take significant time, e.g., if the operation needs to wait for a hardware event, or if it communicates over the network.\n",
    "\n",
    "In contrast,servo and LED APIs are *non-blocking*, meaning they do not wait for the operation to complete. When you move a servo, the API returns *before* the servo reaches the desired state."
   ]
  },
  {
   "cell_type": "markdown",
   "id": "6ef6548e-09b7-4153-aeca-80f885cf92ed",
   "metadata": {},
   "source": [
    "<img src=\"../images/blocking-non-blocking.png\"/>"
   ]
  },
  {
   "cell_type": "markdown",
   "id": "fa6bed9f-6de0-472f-b1cb-ab483f0c53fd",
   "metadata": {},
   "source": [
    "Non-blocking operations can be performed simultaneously, e.g., to move two or more servos:"
   ]
  },
  {
   "cell_type": "code",
   "execution_count": 6,
   "id": "ff0f539b-b999-412f-9a0e-4fbfa88afbde",
   "metadata": {},
   "outputs": [],
   "source": [
    "# The two servos will move simultaneously\n",
    "servos.torso.set(-90)\n",
    "servos.wrist_lr.set(-90)"
   ]
  },
  {
   "cell_type": "code",
   "execution_count": 7,
   "id": "b7974a3f-cbf9-436e-a4b4-f7e31ea8c047",
   "metadata": {},
   "outputs": [
    {
     "data": {
      "text/plain": [
       "-90.0"
      ]
     },
     "execution_count": 7,
     "metadata": {},
     "output_type": "execute_result"
    }
   ],
   "source": [
    "servos.torso.get()"
   ]
  },
  {
   "cell_type": "markdown",
   "id": "ec5b9ad6-5af9-4edd-8c10-1d27f2794884",
   "metadata": {},
   "source": [
    "But, we do not control the speed and don't know when the operations complete."
   ]
  },
  {
   "cell_type": "markdown",
   "id": "90331f9a-e2e3-4713-93b0-17e02eb7985a",
   "metadata": {},
   "source": [
    "**When writing concurrent (multi-tasking) programs, understanding which operations are blocking and non-blocking is crucial. This is usually documented.**"
   ]
  },
  {
   "cell_type": "markdown",
   "id": "f0234b21-fb67-4692-b70e-eef4d6fbd428",
   "metadata": {},
   "source": [
    "# Speed Control"
   ]
  },
  {
   "cell_type": "markdown",
   "id": "d6a8ad3c-6fa7-4b24-ae29-08302822345d",
   "metadata": {},
   "source": [
    "The only way to control the speed of a servo is with incremental updates, i.e., by periodically updating its state. We know how to do that in Python:"
   ]
  },
  {
   "cell_type": "code",
   "execution_count": 8,
   "id": "6f75d855-4e0e-43a7-8e58-64fda26a7ab2",
   "metadata": {},
   "outputs": [],
   "source": [
    "import math\n",
    "from datetime import datetime, timedelta\n",
    "from time import sleep\n",
    "\n",
    "# This function incrementally moves the servo to the destination state\n",
    "# \"dst\" with \"speed\" and the given update \"rate\" (updates per second).\n",
    "\n",
    "def move(servo, dst, speed=None, rate=50):\n",
    "    # Get the servo's current state\n",
    "    src = servo.get()\n",
    "\n",
    "    if speed is not None:\n",
    "        # If speed is set, compute the duration it will take to move\n",
    "        # from the state \"src\" to \"dst\".\n",
    "        duration = abs(dst - src) / 180 * math.pi / speed\n",
    "    else:\n",
    "        # If speed is unset, move as quickly as possible. With a duration\n",
    "        # of 0 the code below degrades to a single update.\n",
    "        duration = 0\n",
    "\n",
    "    start = datetime.now()\n",
    "    stop = start + timedelta(seconds=duration)\n",
    "    while True:\n",
    "        now = datetime.now()\n",
    "        if now >= stop:  # We ran out of time\n",
    "            servo = dst  # Move to dst and return\n",
    "            return dst\n",
    "\n",
    "        i = (now - start).total_seconds() / duration\n",
    "        if i > 1: i = 1\n",
    "\n",
    "        servo.set((dst - src) * i + src)\n",
    "        sleep(1 / rate)"
   ]
  },
  {
   "cell_type": "code",
   "execution_count": 9,
   "id": "d518b91e-9bcc-4675-8987-d057af502611",
   "metadata": {},
   "outputs": [
    {
     "data": {
      "application/vnd.jupyter.widget-view+json": {
       "model_id": "e8d1bad2bed84944aea697a8b77c373b",
       "version_major": 2,
       "version_minor": 0
      },
      "text/plain": [
       "VBox(children=(FloatSlider(value=-90.0, continuous_update=False, description='Torso', max=90.0, min=-90.0, rea…"
      ]
     },
     "metadata": {},
     "output_type": "display_data"
    }
   ],
   "source": [
    "display(servos)"
   ]
  },
  {
   "cell_type": "code",
   "execution_count": 10,
   "id": "427e44c9-25b9-410a-89b8-c68d35056f54",
   "metadata": {},
   "outputs": [
    {
     "data": {
      "text/plain": [
       "90"
      ]
     },
     "execution_count": 10,
     "metadata": {},
     "output_type": "execute_result"
    }
   ],
   "source": [
    "move(servos.wrist_lr, 90, 0.1)"
   ]
  },
  {
   "cell_type": "markdown",
   "id": "0ecc12a3-43d0-4f5e-b3b2-38a15e78e4b0",
   "metadata": {},
   "source": [
    "This is great, except the operation is now **blocking**! While `move` is running, I cannot do anything else. My _main execution thread_ is blocked, although the function just sleeps most of the time. Thus, we cannot use this approach to slowly move multiple servos simultaneously."
   ]
  },
  {
   "cell_type": "markdown",
   "id": "a05881b8-33ec-4518-9354-108d76b5d55e",
   "metadata": {},
   "source": [
    "# Learn: CPU-Bound and I/O-Bound Operations"
   ]
  },
  {
   "cell_type": "markdown",
   "id": "07548ca3-75a0-457f-9f8c-05fa86c04ff2",
   "metadata": {},
   "source": [
    "The `move` function can take a while to return, depending on the speed and distance. Yet, if you look at its source code, it is not busy. All statements except `sleep` are fast. Sleep suspends the execution, allowing other processes (applications) to run. The function `sleep` waits for a timer to fire, i.e., an external event.\n",
    "\n",
    "The `move` function is **I/O-bound**. Its running time is dominated by waiting for external events (timers). In contrast, an operation is **CPU-bound** if its running time is dominated by CPU-intensive computations."
   ]
  },
  {
   "cell_type": "markdown",
   "id": "6e00e32c-5d25-43fc-941e-3953cbce5005",
   "metadata": {},
   "source": [
    "<img src=\"../images/io-cpu.png\"/>"
   ]
  },
  {
   "cell_type": "markdown",
   "id": "cabfd54a-4af0-425d-91d2-0b7df4a9230d",
   "metadata": {},
   "source": [
    "# Learn: Interleaving I/O-Bound Operations With `async` and `await`"
   ]
  },
  {
   "cell_type": "markdown",
   "id": "d158d925-ee81-421f-8694-10d2ca5a6b6b",
   "metadata": {},
   "source": [
    "Python 3.5 (2015) introduced two new reserved words to the language: `async` and `await`. If you sprinkle your I/O-bound operations with these keywords, Python will let you run multiple such operations **concurrently** in the same (main) execution thread."
   ]
  },
  {
   "cell_type": "markdown",
   "id": "279904a9-3f4e-4372-87b7-90ec3513aa2a",
   "metadata": {},
   "source": [
    "<img src='../images/interleaving.png'/>"
   ]
  },
  {
   "cell_type": "markdown",
   "id": "1217823a-04b4-40a1-b286-707a00104a54",
   "metadata": {},
   "source": [
    "_This would solve our problem, i.e., we could slowly move multiple servos simultaneously._"
   ]
  },
  {
   "cell_type": "markdown",
   "id": "63472352-61c0-4ee7-a0e8-4fa7e043f320",
   "metadata": {},
   "source": [
    "## Asynchronous Functions (`async`)"
   ]
  },
  {
   "cell_type": "markdown",
   "id": "acd77a39-d0cd-4980-ac84-d66b27093400",
   "metadata": {},
   "source": [
    "The `async` keyword can be used to mark a function as \"asynchronous\". We can apply that to our `move` function:"
   ]
  },
  {
   "cell_type": "code",
   "execution_count": 11,
   "id": "8b6e44ec-0764-4226-b431-35eeb96d57fc",
   "metadata": {},
   "outputs": [],
   "source": [
    "# This function incrementally moves the servo to the destination state\n",
    "# \"dst\" with \"speed\" and the given update \"rate\" (updates per second).\n",
    "\n",
    "# NOTE async at the beginning of the next line\n",
    "async def move(servo, dst, speed=None, rate=50):\n",
    "    # Get the servo's current state\n",
    "    src = servo.get()\n",
    "\n",
    "    if speed is not None:\n",
    "        # If speed is set, compute the duration it will take to move\n",
    "        # from the state \"src\" to \"dst\".\n",
    "        duration = abs(dst - src) / 180 * math.pi / speed\n",
    "    else:\n",
    "        # If speed is unset, move as quickly as possible. With a duration\n",
    "        # of 0 the code below degrades to a single update.\n",
    "        duration = 0\n",
    "\n",
    "    start = datetime.now()\n",
    "    stop = start + timedelta(seconds=duration)\n",
    "    while True:\n",
    "        now = datetime.now()\n",
    "        if now >= stop:  # We ran out of time\n",
    "            servo = dst  # Move to dst and return\n",
    "            return dst\n",
    "\n",
    "        i = (now - start).total_seconds() / duration\n",
    "        if i > 1: i = 1\n",
    "\n",
    "        servo.set((dst - src) * i + src)\n",
    "        sleep(1 / rate)"
   ]
  },
  {
   "cell_type": "markdown",
   "id": "7572139f-7bd9-487b-a174-3df9a2972617",
   "metadata": {},
   "source": [
    "Let's invoke it and see what happens. Remember, the previous (synchronous) version would block until the movement completes."
   ]
  },
  {
   "cell_type": "code",
   "execution_count": 12,
   "id": "bf9f265f-b720-406b-bed7-29d20f80648b",
   "metadata": {},
   "outputs": [
    {
     "data": {
      "text/plain": [
       "<coroutine object move at 0x106eb30a0>"
      ]
     },
     "execution_count": 12,
     "metadata": {},
     "output_type": "execute_result"
    }
   ],
   "source": [
    "move(servos.wrist_lr, 90, 0.1)"
   ]
  },
  {
   "cell_type": "markdown",
   "id": "b3a9ae93-23c3-4930-9521-b5559eca1314",
   "metadata": {},
   "source": [
    "This time, the function did not block, but it also did not run (no movement)! Furthermore, it returned a strange \"coroutine\" object. Let's try to understand it."
   ]
  },
  {
   "cell_type": "markdown",
   "id": "024fb9ce-ec53-42d3-b84a-70be1633cb9d",
   "metadata": {},
   "source": [
    "### From Subroutines to Coroutines"
   ]
  },
  {
   "cell_type": "markdown",
   "id": "4d2d1f8d-38f1-47c3-862f-d06ae0bfe15a",
   "metadata": {},
   "source": [
    "Recall (from E1006) what happens when you invoke a regular (synchronous) Python function:\n",
    "  1) The main program (or another function) is temporarily suspended;\n",
    "  1) Control is immediately passed to the invoked function;\n",
    "  1) Once the function finishes and returns a value, the main program continues.\n",
    "\n",
    "<img width=800 src=\"https://raw.githubusercontent.com/cucs-python/public/spring-2023/e1006/lectures/function_flow_of_control.png\"/>\n",
    "\n",
    "This process can be \"nested\", i.e., the function can invoke other functions, which can also invoke other functions, etc.\n",
    "\n",
    "**We will refer to all the computation that happens to obtain the return value a subroutine**. A subroutine is created immediately when you invoke a function and terminates when the function returns. The main execution thread is blocked while the subroutine is running. _The subroutine is an abstract concept (not represented with objects in Python)._"
   ]
  },
  {
   "cell_type": "markdown",
   "id": "47dba70f-4549-477f-a0f4-e3bef76d7c64",
   "metadata": {},
   "source": [
    "The `async` keyword modifies this behavior. When you invoke a function defined as `async`, it DOES NOT start executing immediately. Instead, you get a `coroutine` object representing the \"future computation\" (subroutine). This extra steps makes it possible to create multiple coroutines to be started later:"
   ]
  },
  {
   "cell_type": "code",
   "execution_count": 13,
   "id": "d3278c21-f44c-446f-ad1f-4a0ae8a4bb06",
   "metadata": {},
   "outputs": [],
   "source": [
    "movement1 = move(servos.torso, 90, 0.1)\n",
    "movement2 = move(servos.wrist_lr, -90, 0.1)"
   ]
  },
  {
   "cell_type": "code",
   "execution_count": 14,
   "id": "785128b5-23a3-402a-b91f-a512431f33e1",
   "metadata": {},
   "outputs": [
    {
     "data": {
      "text/plain": [
       "<coroutine object move at 0x125117760>"
      ]
     },
     "execution_count": 14,
     "metadata": {},
     "output_type": "execute_result"
    }
   ],
   "source": [
    "movement1"
   ]
  },
  {
   "cell_type": "code",
   "execution_count": 15,
   "id": "8a3e1e97-2827-4343-b544-f28cd27b9b88",
   "metadata": {},
   "outputs": [
    {
     "data": {
      "text/plain": [
       "<coroutine object move at 0x1251179a0>"
      ]
     },
     "execution_count": 15,
     "metadata": {},
     "output_type": "execute_result"
    }
   ],
   "source": [
    "movement2"
   ]
  },
  {
   "cell_type": "markdown",
   "id": "f47f02d1-a43f-400e-ab67-ddf3f20f1e92",
   "metadata": {},
   "source": [
    "We have two (not yet started) coroutines. Both will invoke the `move` function, but with different parameters. Being able to create multiple coroutines without starting them is a necessary, but not sufficient condition for concurrency."
   ]
  },
  {
   "cell_type": "markdown",
   "id": "c948cff6-4871-4711-a4e1-50317c4506e5",
   "metadata": {},
   "source": [
    "## Cooperative Functions (`await`)"
   ]
  },
  {
   "cell_type": "markdown",
   "id": "7aee2cf4-d52c-4330-89ff-3b0125255c06",
   "metadata": {},
   "source": [
    "Once a coroutine has been running, Python will not automatically interrupt it. If the couroutine knows it cannot make progress, e.g., when it reaches the `sleep` statement, it must excplicitly tell Python to suspend the current coroutine and schedule another one, if there is any. The `await` keyword does exactly that."
   ]
  },
  {
   "cell_type": "markdown",
   "id": "0034c0aa-c5b5-4965-b914-b6a34c6e351a",
   "metadata": {},
   "source": [
    "Unfortunately, `await` cannot be used with arbitrary blocking functions such as `time.sleep`. The function must return a special \"awaitable\" object. Fortunately, the `asyncio` module provides alternatives for common blocking functions. Thus, we can replace `sleep` with `asyncio.sleep`."
   ]
  },
  {
   "cell_type": "code",
   "execution_count": 16,
   "id": "6aea59e0-908b-4a6c-bded-9598066b2778",
   "metadata": {},
   "outputs": [],
   "source": [
    "import asyncio\n",
    "\n",
    "async def move(servo, dst, speed=None, rate=50):\n",
    "    # Get the servo's current state\n",
    "    src = servo.get()\n",
    "\n",
    "    if speed is not None:\n",
    "        # If speed is set, compute the duration it will take to move\n",
    "        # from the state \"src\" to \"dst\".\n",
    "        duration = abs(dst - src) / 180 * math.pi / speed\n",
    "    else:\n",
    "        # If speed is unset, move as quickly as possible. With a duration\n",
    "        # of 0 the code below degrades to a single update.\n",
    "        duration = 0\n",
    "\n",
    "    start = datetime.now()\n",
    "    stop = start + timedelta(seconds=duration)\n",
    "    while True:\n",
    "        now = datetime.now()\n",
    "        if now >= stop:  # We ran out of time\n",
    "            servo = dst  # Move to dst and return\n",
    "            return dst\n",
    "\n",
    "        i = (now - start).total_seconds() / duration\n",
    "        if i > 1: i = 1\n",
    "\n",
    "        servo.set((dst - src) * i + src)\n",
    "        await asyncio.sleep(1 / rate)         # <===== \"sleep\" became \"await asyncio.sleep\""
   ]
  },
  {
   "cell_type": "markdown",
   "id": "32c3d2dc-0f04-406a-b302-1c0c30588d47",
   "metadata": {},
   "source": [
    "Turning a subroutine into a cooperatively-scheduled coroutine requires the following:\n",
    "  1. Define the function with `async`;\n",
    "  1. Identify all blocking statements (only `sleep` in our example);\n",
    "  1. Replace them with awaitable alternatives provided by the `asyncio` module;\n",
    "  1. Label the statements with `await` to let Python switch to other coroutines."
   ]
  },
  {
   "cell_type": "markdown",
   "id": "44f45dd8-37c9-4ddb-9f6c-2571011e0147",
   "metadata": {},
   "source": [
    "## Concurrent Scheduling"
   ]
  },
  {
   "cell_type": "markdown",
   "id": "d0af9d6d-907a-41e3-8747-f3d4091b7855",
   "metadata": {},
   "source": [
    "Finally, we can concurrently run the two coroutines defined earlier:"
   ]
  },
  {
   "cell_type": "code",
   "execution_count": 17,
   "id": "b02cb8bc-0d99-4fd8-bed7-0e76d2c72a3f",
   "metadata": {},
   "outputs": [],
   "source": [
    "import asyncio\n",
    "\n",
    "# Wrap the coroutines in named tasks and start executing as soon as possible\n",
    "task1 = asyncio.create_task(movement1, name='Moving torso')\n",
    "task2 = asyncio.create_task(movement2, name='Moving wrist')"
   ]
  },
  {
   "cell_type": "markdown",
   "id": "7133b472-4de8-4b7c-bd39-46ca29a74774",
   "metadata": {},
   "source": [
    "Voilla! We have two concurrently running tasks. Furthermore, our main execution thread is available for more work."
   ]
  },
  {
   "cell_type": "markdown",
   "id": "0ae43eec-933d-4dfa-817f-0b8e9e23fde6",
   "metadata": {},
   "source": [
    "The tasks and coroutines are \"awaitable\" themselves, which means we can wait for the completion of one task before starting another:"
   ]
  },
  {
   "cell_type": "code",
   "execution_count": null,
   "id": "857082a4-3ff2-4066-bbbf-9753544f65b9",
   "metadata": {},
   "outputs": [],
   "source": [
    "movement1 = move(servos.torso, 90, 0.1)\n",
    "movement2 = move(servos.wrist_lr, -90, 0.1)\n",
    "\n",
    "await asyncio.create_task(movement1, name='Moving torso') # This statement blocks until torso stops moving\n",
    "await asyncio.create_task(movement2, name='Moving wrist') # This statement blocks until wrist stops moving"
   ]
  },
  {
   "cell_type": "markdown",
   "id": "c6f40fe8-98f4-4eb3-9cec-660e683ed069",
   "metadata": {},
   "source": [
    "The `asyncio` module provides utility functions to compose sequential and concurrent tasks (coroutines) in natural and familiar style. This is very powerful programming abstraction which helps to keep the code readable and maintainable."
   ]
  },
  {
   "cell_type": "markdown",
   "id": "16dcd0a4-8a2d-4bb4-a017-a5680fa4a8df",
   "metadata": {},
   "source": [
    "# Limitations"
   ]
  },
  {
   "cell_type": "markdown",
   "id": "3eccccc1-c5e4-4f51-aedd-eb50068adca8",
   "metadata": {},
   "source": [
    "  - Need for `await` and `asyncio` wrappers\n",
    "  - \"Out of luck\" with external code that cannot be modified"
   ]
  },
  {
   "cell_type": "markdown",
   "id": "5f544c78-b7cf-414b-82d1-f8a7a0bdae75",
   "metadata": {},
   "source": [
    "# Threading"
   ]
  },
  {
   "cell_type": "markdown",
   "id": "05909383-7276-475f-a1f3-b9a93259d847",
   "metadata": {},
   "source": [
    "# Additional Resources"
   ]
  },
  {
   "cell_type": "markdown",
   "id": "1dbe4fc6-cccc-40dd-908e-425d9e6c7285",
   "metadata": {},
   "source": [
    "  * Shaky Steve's Python software is open-source. You can study (and improve) it at https://github.com/janakj/shaky-steve.\n",
    "  * Steve also has a home page at https://janakj.github.io/shaky-steve/.\n",
    "  * Python `asyncio` module documentation\n",
    "  * Python `threading` module documentation"
   ]
  },
  {
   "cell_type": "code",
   "execution_count": null,
   "id": "da6a56a7-7695-4e6d-8151-8eebfafde67e",
   "metadata": {},
   "outputs": [],
   "source": []
  }
 ],
 "metadata": {
  "kernelspec": {
   "display_name": "Python 3 (ipykernel)",
   "language": "python",
   "name": "python3"
  },
  "language_info": {
   "codemirror_mode": {
    "name": "ipython",
    "version": 3
   },
   "file_extension": ".py",
   "mimetype": "text/x-python",
   "name": "python",
   "nbconvert_exporter": "python",
   "pygments_lexer": "ipython3",
   "version": "3.11.10"
  }
 },
 "nbformat": 4,
 "nbformat_minor": 5
}
